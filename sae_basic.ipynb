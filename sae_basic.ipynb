{
 "cells": [
  {
   "cell_type": "code",
   "execution_count": 1,
   "metadata": {},
   "outputs": [],
   "source": [
    "import os\n",
    "from dataPreprocessing import *\n",
    "import pandas as pd\n",
    "from torch.utils.data.dataset import random_split\n",
    "from torch.utils.data import RandomSampler\n",
    "from torch.utils.data import DataLoader\n",
    "import torch.nn as nn\n",
    "import torch.optim as optim\n",
    "from torch.nn import TransformerEncoder, TransformerEncoderLayer\n",
    "from torch.nn import functional as F\n",
    "from sklearn.metrics import accuracy_score, f1_score, confusion_matrix, ConfusionMatrixDisplay\n",
    "import matplotlib.pyplot as plt\n",
    "from tqdm import tqdm"
   ]
  },
  {
   "cell_type": "code",
   "execution_count": 2,
   "metadata": {},
   "outputs": [
    {
     "data": {
      "text/plain": [
       "<torch._C.Generator at 0x110f2f710>"
      ]
     },
     "execution_count": 2,
     "metadata": {},
     "output_type": "execute_result"
    }
   ],
   "source": [
    "RANDOM_SEED = 42\n",
    "BATCH_SIZE = 32\n",
    "\n",
    "torch.manual_seed(RANDOM_SEED)"
   ]
  },
  {
   "cell_type": "code",
   "execution_count": 3,
   "metadata": {},
   "outputs": [
    {
     "name": "stdout",
     "output_type": "stream",
     "text": [
      "cpu\n"
     ]
    }
   ],
   "source": [
    "device = torch.device('cuda' if torch.cuda.is_available() else('mps' if torch.backends.mps.is_available() else 'cpu'))\n",
    "print(device)"
   ]
  },
  {
   "cell_type": "code",
   "execution_count": 4,
   "metadata": {},
   "outputs": [],
   "source": [
    "def plot_loss(train_loss_over_time, val_loss_over_time, model_name):\n",
    "    epochs = range(1, len(train_loss_over_time) + 1)\n",
    "\n",
    "    plt.figure(figsize=(10, 6))\n",
    "    plt.plot(epochs, train_loss_over_time, color='red', label='Train Loss')\n",
    "    plt.plot(epochs, val_loss_over_time, color='blue', label='Val Loss')\n",
    "\n",
    "    plt.xlabel('Epochs')\n",
    "    plt.ylabel('Loss')\n",
    "    plt.title(f'Training and Validation Loss for {model_name}')\n",
    "    plt.legend()\n",
    "    plt.grid(True)\n",
    "    plt.show()"
   ]
  },
  {
   "cell_type": "code",
   "execution_count": 5,
   "metadata": {},
   "outputs": [],
   "source": [
    "#folder path were dataset is located\n",
    "path = 'dataset/'\n",
    "#initialize empty lists to hold data\n",
    "train_pos, train_neg, test_pos, test_neg = [], [], [], []\n",
    "#create a dictionary where the key is the relative path to data and value is empty list\n",
    "sets_dict = {'train/pos/': train_pos, 'train/neg/': train_neg, 'test/pos/': test_pos, 'test/neg/': test_neg}\n",
    "#loop through dictionary to read from files and populate empty lists\n",
    "for dataset in sets_dict:\n",
    "        file_list = [file for file in os.listdir(os.path.join(path, dataset)) if file.endswith('.txt')]\n",
    "        file_list = sorted(file_list)\n",
    "        load_data(os.path.join(path, dataset), file_list, sets_dict[dataset])\n",
    "#Covert lists to pandas dataframes and combine to form train and test datasets\n",
    "train_data = pd.concat([pd.DataFrame({'review': train_pos, 'label':1}), pd.DataFrame({'review': train_neg, 'label':0})], axis = 0, ignore_index=True)\n",
    "test_data = pd.concat([pd.DataFrame({'review': test_pos, 'label':1}), pd.DataFrame({'review': test_neg, 'label':0})], axis = 0, ignore_index=True)"
   ]
  },
  {
   "cell_type": "code",
   "execution_count": 6,
   "metadata": {},
   "outputs": [],
   "source": [
    "train_data[\"tokenized\"] = train_data[\"review\"].apply(lambda x: tokenize(clean_text(x.lower())))\n",
    "test_data[\"tokenized\"] = test_data[\"review\"].apply(lambda x: tokenize(clean_text(x.lower())))"
   ]
  },
  {
   "cell_type": "code",
   "execution_count": 7,
   "metadata": {},
   "outputs": [],
   "source": [
    "train_vocab, reversed_train_vocab = generate_vocab_map(train_data)"
   ]
  },
  {
   "cell_type": "code",
   "execution_count": 8,
   "metadata": {},
   "outputs": [],
   "source": [
    "generator1 = torch.Generator().manual_seed(RANDOM_SEED)\n",
    "\n",
    "train_dataset = ReviewDataset(train_vocab, train_data)\n",
    "train_dataset, val_dataset = random_split(train_dataset,[0.9,0.1], generator=generator1)\n",
    "test_dataset  = ReviewDataset(train_vocab, test_data)\n",
    "\n",
    "train_sampler = RandomSampler(train_dataset)\n",
    "val_sampler = RandomSampler(val_dataset)\n",
    "test_sampler  = RandomSampler(test_dataset)"
   ]
  },
  {
   "cell_type": "code",
   "execution_count": 9,
   "metadata": {},
   "outputs": [],
   "source": [
    "train_iterator = DataLoader(train_dataset, batch_size=BATCH_SIZE, sampler=train_sampler, collate_fn=collate_fn)\n",
    "val_iterator = DataLoader(val_dataset, batch_size=BATCH_SIZE, sampler=val_sampler, collate_fn=collate_fn)\n",
    "test_iterator  = DataLoader(test_dataset, batch_size=BATCH_SIZE, sampler=test_sampler, collate_fn=collate_fn)"
   ]
  },
  {
   "cell_type": "code",
   "execution_count": 10,
   "metadata": {},
   "outputs": [],
   "source": [
    "class TransformerModel(nn.Module):\n",
    "    def __init__(self, vocab_size, embedding_dim, num_heads, hidden_dim, num_layers, dropout=0.1):\n",
    "        super(TransformerModel, self).__init__()\n",
    "        \n",
    "        # Embedding layer for input text\n",
    "        self.embedding = nn.Embedding(vocab_size, embedding_dim)\n",
    "        \n",
    "        # Transformer Encoder Layer with one layer\n",
    "        encoder_layers = TransformerEncoderLayer(d_model=embedding_dim, nhead=num_heads, dim_feedforward=hidden_dim, dropout=dropout)\n",
    "        self.transformer_encoder = TransformerEncoder(encoder_layers, num_layers=num_layers)\n",
    "        \n",
    "        # Fully connected layer for classification\n",
    "        self.fc = nn.Linear(embedding_dim, 1)\n",
    "        \n",
    "        # Activation\n",
    "        self.sigmoid = nn.Sigmoid()\n",
    "\n",
    "    def forward(self, src, src_mask=None):\n",
    "        # src shape: (batch_size, seq_len)\n",
    "        embedded = self.embedding(src)  # (batch_size, seq_len, embedding_dim)\n",
    "        embedded = embedded.permute(1, 0, 2)  # Transformer expects (seq_len, batch_size, embedding_dim)\n",
    "        \n",
    "        # Transformer Encoder\n",
    "        encoded_output = self.transformer_encoder(embedded, src_mask)  # (seq_len, batch_size, embedding_dim)\n",
    "        encoded_output = encoded_output.mean(dim=0)  # Average pooling over the sequence length dimension\n",
    "        \n",
    "        # Fully connected layer\n",
    "        output = self.fc(encoded_output)  # (batch_size, 1)\n",
    "        output = self.sigmoid(output).squeeze()  # Squeeze to remove extra dimensions\n",
    "        \n",
    "        return output"
   ]
  },
  {
   "cell_type": "code",
   "execution_count": 11,
   "metadata": {},
   "outputs": [
    {
     "name": "stderr",
     "output_type": "stream",
     "text": [
      "/Users/miguel/miniconda3/envs/nlp_proj/lib/python3.12/site-packages/torch/nn/modules/transformer.py:306: UserWarning: enable_nested_tensor is True, but self.use_nested_tensor is False because encoder_layer.self_attn.batch_first was not True(use batch_first for better inference performance)\n",
      "  warnings.warn(f\"enable_nested_tensor is True, but self.use_nested_tensor is False because {why_not_sparsity_fast_path}\")\n"
     ]
    }
   ],
   "source": [
    "# Initialize the model\n",
    "vocab_size = len(train_vocab)\n",
    "embedding_dim = 16  # Dimension of the embedding\n",
    "num_heads = 4  # Number of heads for the multi-head attention\n",
    "hidden_dim = 32  # Dimension of the feedforward network\n",
    "num_layers = 1  # Number of Transformer encoder layers\n",
    "\n",
    "model = TransformerModel(vocab_size, embedding_dim, num_heads, hidden_dim, num_layers).to(device)"
   ]
  },
  {
   "cell_type": "code",
   "execution_count": 12,
   "metadata": {},
   "outputs": [
    {
     "name": "stderr",
     "output_type": "stream",
     "text": [
      "/Users/miguel/miniconda3/envs/nlp_proj/lib/python3.12/site-packages/tqdm/auto.py:21: TqdmWarning: IProgress not found. Please update jupyter and ipywidgets. See https://ipywidgets.readthedocs.io/en/stable/user_install.html\n",
      "  from .autonotebook import tqdm as notebook_tqdm\n"
     ]
    }
   ],
   "source": [
    "# Loss and optimizer\n",
    "criterion = nn.BCELoss()  # Binary cross-entropy loss\n",
    "optimizer = optim.Adam(model.parameters(), lr=0.001)"
   ]
  },
  {
   "cell_type": "code",
   "execution_count": 13,
   "metadata": {},
   "outputs": [
    {
     "name": "stderr",
     "output_type": "stream",
     "text": [
      "Epoch 1/5: 100%|██████████| 704/704 [05:51<00:00,  2.00it/s]\n"
     ]
    },
    {
     "name": "stdout",
     "output_type": "stream",
     "text": [
      "Epoch 1 - Training Loss: 0.5974\n",
      "Epoch 1 - Validation Loss: 0.4504\n"
     ]
    },
    {
     "name": "stderr",
     "output_type": "stream",
     "text": [
      "Epoch 2/5: 100%|██████████| 704/704 [04:28<00:00,  2.62it/s]\n"
     ]
    },
    {
     "name": "stdout",
     "output_type": "stream",
     "text": [
      "Epoch 2 - Training Loss: 0.3730\n",
      "Epoch 2 - Validation Loss: 0.3661\n"
     ]
    },
    {
     "name": "stderr",
     "output_type": "stream",
     "text": [
      "Epoch 3/5: 100%|██████████| 704/704 [04:16<00:00,  2.75it/s]\n"
     ]
    },
    {
     "name": "stdout",
     "output_type": "stream",
     "text": [
      "Epoch 3 - Training Loss: 0.2929\n",
      "Epoch 3 - Validation Loss: 0.3523\n"
     ]
    },
    {
     "name": "stderr",
     "output_type": "stream",
     "text": [
      "Epoch 4/5: 100%|██████████| 704/704 [04:20<00:00,  2.70it/s]\n"
     ]
    },
    {
     "name": "stdout",
     "output_type": "stream",
     "text": [
      "Epoch 4 - Training Loss: 0.2457\n",
      "Epoch 4 - Validation Loss: 0.3257\n"
     ]
    },
    {
     "name": "stderr",
     "output_type": "stream",
     "text": [
      "Epoch 5/5: 100%|██████████| 704/704 [04:22<00:00,  2.68it/s]\n"
     ]
    },
    {
     "name": "stdout",
     "output_type": "stream",
     "text": [
      "Epoch 5 - Training Loss: 0.2070\n",
      "Epoch 5 - Validation Loss: 0.3349\n"
     ]
    },
    {
     "data": {
      "image/png": "[encoded data removed]",
      "text/plain": [
       "<Figure size 1000x600 with 1 Axes>"
      ]
     },
     "metadata": {},
     "output_type": "display_data"
    }
   ],
   "source": [
    "num_epochs = 5\n",
    "train_loss_over_time = []\n",
    "val_loss_over_time = []\n",
    "\n",
    "for epoch in range(num_epochs):\n",
    "    model.train()\n",
    "    total_loss = 0\n",
    "    for batch in tqdm(train_iterator, desc=f'Epoch {epoch + 1}/{num_epochs}'):\n",
    "        reviews, labels = batch[0].to(device), batch[1].float().to(device)\n",
    "        \n",
    "        optimizer.zero_grad()\n",
    "        predictions = model(reviews)\n",
    "        loss = criterion(predictions, labels)\n",
    "        loss.backward()\n",
    "        optimizer.step()\n",
    "        \n",
    "        total_loss += loss.item()\n",
    "    \n",
    "    avg_train_loss = total_loss / len(train_iterator)\n",
    "    train_loss_over_time.append(avg_train_loss)\n",
    "    print(f'Epoch {epoch + 1} - Training Loss: {avg_train_loss:.4f}')\n",
    "    \n",
    "    # Validation loop (if applicable)\n",
    "    model.eval()\n",
    "    val_loss = 0\n",
    "    with torch.no_grad():\n",
    "        for batch in val_iterator:\n",
    "            reviews, labels = batch[0].to(device), batch[1].float().to(device)\n",
    "            predictions = model(reviews)\n",
    "            loss = criterion(predictions, labels)\n",
    "            val_loss += loss.item()\n",
    "    \n",
    "    avg_val_loss = val_loss / len(val_iterator)\n",
    "    val_loss_over_time.append(avg_val_loss)\n",
    "    print(f'Epoch {epoch + 1} - Validation Loss: {avg_val_loss:.4f}')\n",
    "\n",
    "# %%\n",
    "# Plot loss curves\n",
    "plot_loss(train_loss_over_time, val_loss_over_time, model_name='Simple Transformer Model')"
   ]
  },
  {
   "cell_type": "code",
   "execution_count": 14,
   "metadata": {},
   "outputs": [
    {
     "name": "stdout",
     "output_type": "stream",
     "text": [
      "Accuracy on the test data: 0.8608\n"
     ]
    }
   ],
   "source": [
    "from sklearn.metrics import accuracy_score\n",
    "\n",
    "# Set the model to evaluation mode\n",
    "model.eval()\n",
    "\n",
    "# Lists to store all predictions and true labels\n",
    "all_preds = []\n",
    "all_labels = []\n",
    "\n",
    "with torch.no_grad():  # Disable gradient calculation for evaluation\n",
    "    for batch in test_iterator:\n",
    "        reviews, labels = batch[0].to(device), batch[1].float().to(device)\n",
    "        \n",
    "        # Get predictions\n",
    "        predictions = model(reviews)\n",
    "        \n",
    "        # Convert predictions to binary labels (assuming a threshold of 0.5 for binary classification)\n",
    "        predicted_labels = (predictions >= 0.5).float()\n",
    "        \n",
    "        # Collect predictions and true labels\n",
    "        all_preds.extend(predicted_labels.cpu().numpy())\n",
    "        all_labels.extend(labels.cpu().numpy())\n",
    "\n",
    "# Calculate and print the accuracy\n",
    "accuracy = accuracy_score(all_labels, all_preds)\n",
    "print(f'Accuracy on the test data: {accuracy:.4f}')\n"
   ]
  },
  {
   "cell_type": "code",
   "execution_count": 36,
   "metadata": {},
   "outputs": [],
   "source": [
    "import torch\n",
    "import torch.nn as nn\n",
    "import torch.optim as optim\n",
    "import torch.nn.functional as F\n",
    "import matplotlib.pyplot as plt\n",
    "from sklearn.decomposition import PCA\n",
    "\n",
    "# Define the Sparse Autoencoder with Mono-Semantic Constraints\n",
    "class MonoSemanticAutoencoder(nn.Module):\n",
    "    def __init__(self, input_dim, hidden_dim, sparsity_lambda=1e-3, orthogonal_lambda=1e-3):\n",
    "        super(MonoSemanticAutoencoder, self).__init__()\n",
    "        self.encoder = nn.Linear(input_dim, hidden_dim)\n",
    "        self.decoder = nn.Linear(hidden_dim, input_dim)\n",
    "        self.sparsity_lambda = sparsity_lambda\n",
    "        self.orthogonal_lambda = orthogonal_lambda\n",
    "\n",
    "    def forward(self, x):\n",
    "        # Encoder\n",
    "        encoded = F.relu(self.encoder(x))\n",
    "        # Decoder\n",
    "        decoded = self.decoder(encoded)\n",
    "        return decoded, encoded\n",
    "\n",
    "    def sparsity_loss(self, encoded):\n",
    "        # Enforce sparsity by penalizing mean activation\n",
    "        sparsity_target = torch.mean(encoded, dim=0)\n",
    "        return self.sparsity_lambda * torch.sum(torch.abs(sparsity_target))\n",
    "    \n",
    "    def orthogonality_loss(self):\n",
    "        # Enforce orthogonality in encoder weights\n",
    "        W = self.encoder.weight.t()  # Transpose to make columns features\n",
    "        M = torch.matmul(W, W.t())  # Gram matrix\n",
    "        I = torch.eye(M.size(0)).to(W.device)  # Identity matrix\n",
    "        return self.orthogonal_lambda * torch.norm(M - I)\n",
    "\n",
    "    def loss(self, decoded, input, encoded):\n",
    "        recon_loss = F.mse_loss(decoded, input)\n",
    "        sparsity_loss = self.sparsity_loss(encoded)\n",
    "        orthogonal_loss = self.orthogonality_loss()\n",
    "        return recon_loss + sparsity_loss + orthogonal_loss\n"
   ]
  },
  {
   "cell_type": "code",
   "execution_count": 37,
   "metadata": {},
   "outputs": [],
   "source": [
    "model.eval()\n",
    "token_activations = []\n",
    "\n",
    "with torch.no_grad():\n",
    "    for batch in test_iterator:\n",
    "        reviews, _ = batch[0].to(device), batch[1].to(device)\n",
    "        embedded = model.embedding(reviews).permute(1, 0, 2)  # (seq_len, batch_size, embedding_dim)\n",
    "        encoded_output = model.transformer_encoder(embedded)  # (seq_len, batch_size, embedding_dim)\n",
    "        \n",
    "        # Collect token-level activations (reshape to handle all tokens)\n",
    "        batch_activations = encoded_output.permute(1, 0, 2).reshape(-1, encoded_output.size(-1))\n",
    "        token_activations.extend(batch_activations.cpu().numpy())\n",
    "\n",
    "# Convert token activations to tensor\n",
    "token_activations = torch.tensor(token_activations, dtype=torch.float32)\n",
    "\n"
   ]
  },
  {
   "cell_type": "code",
   "execution_count": 95,
   "metadata": {},
   "outputs": [
    {
     "name": "stdout",
     "output_type": "stream",
     "text": [
      "Epoch 1/3, Loss: 0.0037\n",
      "Epoch 2/3, Loss: 0.0012\n",
      "Epoch 3/3, Loss: 0.0012\n"
     ]
    }
   ],
   "source": [
    "# Training the Sparse Autoencoder with Mono-Semantic Constraints\n",
    "sparsity_lambda = 1e-4\n",
    "orthogonal_lambda = 1e-3\n",
    "batch_size = 32\n",
    "num_epochs = 3\n",
    "learning_rate = 0.001\n",
    "\n",
    "# Training the Sparse Autoencoder on Token-Level Activations\n",
    "input_dim = token_activations.shape[1]\n",
    "hidden_dim = 32  # Increased dimension to account for more features per token\n",
    "autoencoder = MonoSemanticAutoencoder(input_dim, hidden_dim, sparsity_lambda, orthogonal_lambda).to(device)\n",
    "\n",
    "optimizer = optim.Adam(autoencoder.parameters(), lr=learning_rate)\n",
    "autoencoder.train()\n",
    "\n",
    "for epoch in range(num_epochs):\n",
    "    total_loss = 0\n",
    "    for i in range(0, len(token_activations), batch_size):\n",
    "        batch = token_activations[i:i + batch_size].to(device)\n",
    "        optimizer.zero_grad()\n",
    "        decoded, encoded = autoencoder(batch)\n",
    "        loss = autoencoder.loss(decoded, batch, encoded)\n",
    "        loss.backward()\n",
    "        optimizer.step()\n",
    "        total_loss += loss.item()\n",
    "\n",
    "    avg_loss = total_loss / (len(token_activations) / batch_size)\n",
    "    print(f'Epoch {epoch + 1}/{num_epochs}, Loss: {avg_loss:.4f}')\n",
    "\n"
   ]
  },
  {
   "cell_type": "code",
   "execution_count": 96,
   "metadata": {},
   "outputs": [],
   "source": [
    "# Visualize the Encoded Features\n",
    "autoencoder.eval()\n",
    "with torch.no_grad():\n",
    "    _, encoded_activations = autoencoder(token_activations.to(device))\n",
    "\n",
    "encoded_activations = encoded_activations.cpu().numpy()"
   ]
  },
  {
   "cell_type": "code",
   "execution_count": 97,
   "metadata": {},
   "outputs": [
    {
     "data": {
      "text/plain": [
       "array([0.0000000e+00, 8.2789280e-02, 6.3282408e-02, 6.4154434e-01,\n",
       "       0.0000000e+00, 0.0000000e+00, 1.8690243e-02, 0.0000000e+00,\n",
       "       2.7116126e-01, 0.0000000e+00, 8.3181798e-01, 0.0000000e+00,\n",
       "       9.6250020e-02, 7.9169869e-05, 4.0566897e-01, 1.7509943e-01,\n",
       "       1.0268129e-03, 0.0000000e+00, 0.0000000e+00, 0.0000000e+00,\n",
       "       8.9590031e-01, 0.0000000e+00, 0.0000000e+00, 0.0000000e+00,\n",
       "       2.2521810e-01, 0.0000000e+00, 0.0000000e+00, 6.6032588e-01,\n",
       "       7.4238665e-02, 1.7904924e+00, 0.0000000e+00, 0.0000000e+00],\n",
       "      dtype=float32)"
      ]
     },
     "execution_count": 97,
     "metadata": {},
     "output_type": "execute_result"
    }
   ],
   "source": [
    "encoded_activations[0]"
   ]
  },
  {
   "cell_type": "code",
   "execution_count": 98,
   "metadata": {},
   "outputs": [],
   "source": [
    "encoded_activations = encoded_activations.reshape(25000,400,32)"
   ]
  },
  {
   "cell_type": "code",
   "execution_count": 99,
   "metadata": {},
   "outputs": [
    {
     "data": {
      "text/plain": [
       "(25000, 400, 32)"
      ]
     },
     "execution_count": 99,
     "metadata": {},
     "output_type": "execute_result"
    }
   ],
   "source": [
    "encoded_activations.shape"
   ]
  },
  {
   "cell_type": "code",
   "execution_count": 100,
   "metadata": {},
   "outputs": [
    {
     "name": "stdout",
     "output_type": "stream",
     "text": [
      "tokenized\n",
      "400    25000\n",
      "Name: count, dtype: int64\n"
     ]
    }
   ],
   "source": [
    "def pad_or_trim(tokens, length=400, pad_token=\"\"):\n",
    "    \"\"\"Pads or trims a list of tokens to a specified length.\"\"\"\n",
    "    if len(tokens) > length:\n",
    "        # Trim the list to the desired length\n",
    "        return tokens[:length]\n",
    "    else:\n",
    "        # Pad the list with the pad_token\n",
    "        return tokens + [pad_token] * (length - len(tokens))\n",
    "\n",
    "# Apply the function to create the tokenized column\n",
    "test_data[\"tokenized\"] = test_data[\"review\"].apply(\n",
    "    lambda x: pad_or_trim(tokenize(clean_text(x.lower())))\n",
    ")\n",
    "\n",
    "# Verify the length of each tokenized review\n",
    "print(test_data[\"tokenized\"].apply(len).value_counts())"
   ]
  },
  {
   "cell_type": "code",
   "execution_count": null,
   "metadata": {},
   "outputs": [
    {
     "ename": "NameError",
     "evalue": "name 'encoded_activations' is not defined",
     "output_type": "error",
     "traceback": [
      "\u001b[0;31m---------------------------------------------------------------------------\u001b[0m",
      "\u001b[0;31mNameError\u001b[0m                                 Traceback (most recent call last)",
      "Cell \u001b[0;32mIn[1], line 18\u001b[0m\n\u001b[1;32m     15\u001b[0m         \u001b[38;5;28mprint\u001b[39m(\u001b[38;5;124mf\u001b[39m\u001b[38;5;124m\"\u001b[39m\u001b[38;5;124mFeature \u001b[39m\u001b[38;5;132;01m{\u001b[39;00mfeature_index\u001b[38;5;132;01m}\u001b[39;00m\u001b[38;5;124m: Maximum Activation = \u001b[39m\u001b[38;5;132;01m{\u001b[39;00mmax_activation\u001b[38;5;132;01m}\u001b[39;00m\u001b[38;5;124m\"\u001b[39m)\n\u001b[1;32m     17\u001b[0m \u001b[38;5;66;03m# Example usage\u001b[39;00m\n\u001b[0;32m---> 18\u001b[0m print_max_activation_per_feature(\u001b[43mencoded_activations\u001b[49m)\n",
      "\u001b[0;31mNameError\u001b[0m: name 'encoded_activations' is not defined"
     ]
    }
   ],
   "source": [
    "def print_max_activation_per_feature(encoded_activations):\n",
    "    \"\"\"\n",
    "    Prints the maximum activation across all reviews and all tokens for each feature.\n",
    "    \n",
    "    Parameters:\n",
    "    encoded_activations (numpy.ndarray): A 3D array of shape (num_reviews, num_tokens, num_features)\n",
    "                                         containing the activations.\n",
    "    \"\"\"\n",
    "    # Calculate the maximum activation for each feature across all reviews and tokens\n",
    "    max_activations = encoded_activations.max(axis=(0, 1))\n",
    "    \n",
    "    # Print the maximum activation for each feature\n",
    "    print(\"Maximum activation for each feature:\")\n",
    "    for feature_index, max_activation in enumerate(max_activations):\n",
    "        print(f\"Feature {feature_index}: Maximum Activation = {max_activation}\")\n",
    "\n",
    "# Example usage\n",
    "print_max_activation_per_feature(encoded_activations)\n"
   ]
  },
  {
   "cell_type": "code",
   "execution_count": 102,
   "metadata": {},
   "outputs": [
    {
     "name": "stdout",
     "output_type": "stream",
     "text": [
      "Top 10 tokens for feature 3 with highest activations:\n",
      "Token: '', Activation: 2.6291635036468506\n",
      "Token: 'out', Activation: 2.6272895336151123\n",
      "Token: 'in', Activation: 2.6190810203552246\n",
      "Token: 'the', Activation: 2.617668390274048\n",
      "Token: '\"', Activation: 2.6121881008148193\n",
      "Token: 'academy', Activation: 2.6121881008148193\n",
      "Token: '', Activation: 2.607008218765259\n",
      "Token: '', Activation: 2.6051218509674072\n",
      "Token: '.', Activation: 2.6019961833953857\n",
      "Token: 'television', Activation: 2.6019961833953857\n"
     ]
    }
   ],
   "source": [
    "def print_top_tokens(encoded_activations, tokens, feature_number, top_n=10):\n",
    "    \"\"\"\n",
    "    Prints the tokens with the top activations for a specified feature number.\n",
    "    \n",
    "    Parameters:\n",
    "    encoded_activations (numpy.ndarray): A 3D array of shape (num_reviews, num_tokens, num_features) \n",
    "                                         containing the activations.\n",
    "    tokens (list of list of str): A list where each element is a list of tokens corresponding to each review.\n",
    "    feature_number (int): The feature index for which we want to find the top activating tokens.\n",
    "    top_n (int): The number of tokens to print with the highest activations for the given feature.\n",
    "    \"\"\"\n",
    "    # Check if the feature_number is within valid range\n",
    "    if feature_number < 0 or feature_number >= encoded_activations.shape[2]:\n",
    "        print(\"Invalid feature number. Please provide a valid feature number.\")\n",
    "        return\n",
    "    \n",
    "    # Flatten the activations and token associations for all reviews\n",
    "    all_tokens = []\n",
    "    all_activations = []\n",
    "\n",
    "    for i in range(len(tokens)):\n",
    "        all_tokens.extend(tokens[i])  # Collect tokens from each review\n",
    "        all_activations.extend(encoded_activations[i, :, feature_number])  # Collect activations for the specified feature\n",
    "\n",
    "    # Create a list of tuples (activation, token) and sort by activation in descending order\n",
    "    token_activation_pairs = list(zip(all_activations, all_tokens))\n",
    "    sorted_pairs = sorted(token_activation_pairs, key=lambda x: x[0], reverse=True)\n",
    "\n",
    "    # Print the top_n tokens with the highest activations for the specified feature\n",
    "    print(f\"Top {top_n} tokens for feature {feature_number} with highest activations:\")\n",
    "    for i in range(min(top_n, len(sorted_pairs))):\n",
    "        activation, token = sorted_pairs[i]\n",
    "        print(f\"Token: '{token}', Activation: {activation}\")\n",
    "\n",
    "# Example usage\n",
    "print_top_tokens(encoded_activations, test_data[\"tokenized\"].tolist(), feature_number=3, top_n=10)\n"
   ]
  }
 ],
 "metadata": {
  "kernelspec": {
   "display_name": "nlp_proj",
   "language": "python",
   "name": "python3"
  },
  "language_info": {
   "codemirror_mode": {
    "name": "ipython",
    "version": 3
   },
   "file_extension": ".py",
   "mimetype": "text/x-python",
   "name": "python",
   "nbconvert_exporter": "python",
   "pygments_lexer": "ipython3",
   "version": "3.12.4"
  }
 },
 "nbformat": 4,
 "nbformat_minor": 2
}
