{
 "cells": [
  {
   "cell_type": "markdown",
   "metadata": {},
   "source": [
    "## Sentiment Analysis Interpreter\n",
    "We train a simple transformer for sentiment analysis on movie reviews, extract interpretable features using SAE and generate explanations using LLMs."
   ]
  },
  {
   "cell_type": "markdown",
   "metadata": {},
   "source": [
    "#### Imports"
   ]
  },
  {
   "cell_type": "code",
   "execution_count": 38,
   "metadata": {},
   "outputs": [],
   "source": [
    "import os\n",
    "from dataPreprocessing import *\n",
    "import pandas as pd\n",
    "from torch.utils.data.dataset import random_split\n",
    "from torch.utils.data import RandomSampler\n",
    "from torch.utils.data import DataLoader\n",
    "import torch.nn as nn\n",
    "import torch.optim as optim\n",
    "from torch.nn import TransformerEncoder, TransformerEncoderLayer\n",
    "from sklearn.metrics import accuracy_score, f1_score, confusion_matrix, ConfusionMatrixDisplay\n",
    "import matplotlib.pyplot as plt\n",
    "from tqdm import tqdm"
   ]
  },
  {
   "cell_type": "markdown",
   "metadata": {},
   "source": [
    "##### Global Constants"
   ]
  },
  {
   "cell_type": "code",
   "execution_count": 39,
   "metadata": {},
   "outputs": [
    {
     "data": {
      "text/plain": [
       "<torch._C.Generator at 0x120fb17b0>"
      ]
     },
     "execution_count": 39,
     "metadata": {},
     "output_type": "execute_result"
    }
   ],
   "source": [
    "RANDOM_SEED = 42\n",
    "BATCH_SIZE = 64\n",
    "from dataPreprocessing import PADDING_VALUE, UNK_VALUE\n",
    "torch.manual_seed(RANDOM_SEED)"
   ]
  },
  {
   "cell_type": "code",
   "execution_count": 40,
   "metadata": {},
   "outputs": [
    {
     "name": "stdout",
     "output_type": "stream",
     "text": [
      "mps\n"
     ]
    }
   ],
   "source": [
    "device = torch.device('cuda' if torch.cuda.is_available() else('mps' if torch.backends.mps.is_available() else 'cpu'))\n",
    "print(device)"
   ]
  },
  {
   "cell_type": "code",
   "execution_count": 41,
   "metadata": {},
   "outputs": [],
   "source": [
    "def save_checkpoint(model, model_name, loss_fn='ce'):\n",
    "    file_path = os.path.join(os.getcwd(), 'model_weights', f'checkpoint_{model_name}_{loss_fn}.pt')\n",
    "    os.makedirs(os.path.join(os.getcwd(), 'model_weights'), exist_ok=True)\n",
    "    checkpoint = { # create a dictionary with all the state information\n",
    "        'model_state_dict': model.state_dict()\n",
    "    }\n",
    "    torch.save(checkpoint, file_path)\n",
    "    print(f\"Checkpoint saved to {file_path}\")\n",
    "\n",
    "def load_checkpoint(model, model_name, loss_fn='ce', map_location='cpu'):\n",
    "    file_path = os.path.join(os.getcwd(), 'model_weights', f'checkpoint_{model_name}_{loss_fn}.pt')\n",
    "    checkpoint = torch.load(file_path, map_location=map_location) # load the checkpoint, ensure correct device\n",
    "    model.load_state_dict(checkpoint['model_state_dict'])"
   ]
  },
  {
   "cell_type": "code",
   "execution_count": 42,
   "metadata": {},
   "outputs": [],
   "source": [
    "def plot_loss(train_loss_over_time, val_loss_over_time, model_name):\n",
    "    epochs = range(1, len(train_loss_over_time) + 1)\n",
    "\n",
    "    plt.figure(figsize=(10, 6))\n",
    "    plt.plot(epochs, train_loss_over_time, color='red', label='Train Loss')\n",
    "    plt.plot(epochs, val_loss_over_time, color='blue', label='Val Loss')\n",
    "\n",
    "    plt.xlabel('Epochs')\n",
    "    plt.ylabel('Loss')\n",
    "    plt.title(f'Training and Validation Loss for {model_name}')\n",
    "    plt.legend()\n",
    "    plt.grid(True)\n",
    "    plt.show()"
   ]
  },
  {
   "cell_type": "markdown",
   "metadata": {},
   "source": [
    "#### Data Preprocessing"
   ]
  },
  {
   "cell_type": "markdown",
   "metadata": {},
   "source": [
    "##### Load Data\n",
    "Data is loaded from 'dataset' folder. There are 50,000 reviews in the data total. 25,000 for training and 25,000 testing. Reviews have label, either positive or negative. There are an equal number of positive and negative reviews in the each dataset. Each review is a text file."
   ]
  },
  {
   "cell_type": "code",
   "execution_count": 43,
   "metadata": {},
   "outputs": [],
   "source": [
    "#folder path were dataset is located\n",
    "path = 'dataset/'\n",
    "#initialize empty lists to hold data\n",
    "train_pos, train_neg, test_pos, test_neg = [], [], [], []\n",
    "#create a dictionary where the key is the relative path to data and value is empty list\n",
    "sets_dict = {'train/pos/': train_pos, 'train/neg/': train_neg, 'test/pos/': test_pos, 'test/neg/': test_neg}\n",
    "#loop through dictionary to read from files and populate empty lists\n",
    "for dataset in sets_dict:\n",
    "        file_list = [file for file in next(os.walk(os.path.join(path, dataset)))[2] if file.endswith('.txt')]\n",
    "        file_list = sorted(file_list)\n",
    "        load_data(os.path.join(path, dataset), file_list, sets_dict[dataset])\n",
    "#Covert lists to pandas dataframes and combine to form train and test datasets\n",
    "train_data = pd.concat([pd.DataFrame({'review': train_pos, 'label':1}), pd.DataFrame({'review': train_neg, 'label':0})], axis = 0, ignore_index=True)\n",
    "test_data = pd.concat([pd.DataFrame({'review': test_pos, 'label':1}), pd.DataFrame({'review': test_neg, 'label':0})], axis = 0, ignore_index=True)"
   ]
  },
  {
   "cell_type": "code",
   "execution_count": 44,
   "metadata": {},
   "outputs": [
    {
     "name": "stdout",
     "output_type": "stream",
     "text": [
      "(25000, 2)\n",
      "                                              review  label\n",
      "0  Bromwell High is a cartoon comedy. It ran at t...      1\n",
      "1  Homelessness (or Houselessness as George Carli...      1\n",
      "2  Brilliant over-acting by Lesley Ann Warren. Be...      1\n",
      "3  This is easily the most underrated film inn th...      1\n",
      "4  This is not the typical Mel Brooks film. It wa...      1\n",
      "                                                  review  label\n",
      "24995  Towards the end of the movie, I felt it was to...      0\n",
      "24996  This is the kind of movie that my enemies cont...      0\n",
      "24997  I saw 'Descent' last night at the Stockholm Fi...      0\n",
      "24998  Some films that you pick up for a pound turn o...      0\n",
      "24999  This is one of the dumbest films, I've ever se...      0\n"
     ]
    }
   ],
   "source": [
    "#Visualize train_data dataframe\n",
    "print(train_data.shape)\n",
    "print(train_data.head())\n",
    "print(train_data.tail())"
   ]
  },
  {
   "cell_type": "code",
   "execution_count": 45,
   "metadata": {},
   "outputs": [
    {
     "name": "stdout",
     "output_type": "stream",
     "text": [
      "(25000, 2)\n",
      "                                              review  label\n",
      "0  I went and saw this movie last night after bei...      1\n",
      "1  Actor turned director Bill Paxton follows up h...      1\n",
      "2  As a recreational golfer with some knowledge o...      1\n",
      "3  I saw this film in a sneak preview, and it is ...      1\n",
      "4  Bill Paxton has taken the true story of the 19...      1\n",
      "                                                  review  label\n",
      "24995  I occasionally let my kids watch this garbage ...      0\n",
      "24996  When all we have anymore is pretty much realit...      0\n",
      "24997  The basic genre is a thriller intercut with an...      0\n",
      "24998  Four things intrigued me as to this film - fir...      0\n",
      "24999  David Bryce's comments nearby are exceptionall...      0\n"
     ]
    }
   ],
   "source": [
    "#Visualize test_data dataframe\n",
    "print(test_data.shape)\n",
    "print(test_data.head())\n",
    "print(test_data.tail())"
   ]
  },
  {
   "cell_type": "markdown",
   "metadata": {},
   "source": [
    "##### Tokenize Data\n",
    "Tokenize each review using spacy english tokenizer"
   ]
  },
  {
   "cell_type": "code",
   "execution_count": 46,
   "metadata": {},
   "outputs": [],
   "source": [
    "train_data[\"tokenized\"] = train_data[\"review\"].apply(lambda x: tokenize(clean_text(x.lower())))\n",
    "test_data[\"tokenized\"] = test_data[\"review\"].apply(lambda x: tokenize(clean_text(x.lower())))"
   ]
  },
  {
   "cell_type": "code",
   "execution_count": 47,
   "metadata": {},
   "outputs": [
    {
     "name": "stdout",
     "output_type": "stream",
     "text": [
      "0    [bromwell, high, is, a, cartoon, comedy, ., it...\n",
      "1    [homelessness, (, or, houselessness, as, georg...\n",
      "2    [brilliant, over, -, acting, by, lesley, ann, ...\n",
      "3    [this, is, easily, the, most, underrated, film...\n",
      "4    [this, is, not, the, typical, mel, brooks, fil...\n",
      "Name: tokenized, dtype: object\n"
     ]
    }
   ],
   "source": [
    "#Examine tokenized reviews\n",
    "print(train_data.head()[\"tokenized\"])"
   ]
  },
  {
   "cell_type": "code",
   "execution_count": 48,
   "metadata": {},
   "outputs": [
    {
     "name": "stdout",
     "output_type": "stream",
     "text": [
      "2772\n",
      "273.77724\n",
      "843\n"
     ]
    }
   ],
   "source": [
    "max = 0\n",
    "total = 0\n",
    "above_thresh = 0\n",
    "for review in train_data[\"tokenized\"]:\n",
    "  if len(review) > max:\n",
    "    max = len(review)\n",
    "  total += len(review)\n",
    "  if len(review) > 800:\n",
    "    above_thresh += 1\n",
    "print(max)\n",
    "print(total/25000)\n",
    "print(above_thresh)"
   ]
  },
  {
   "cell_type": "markdown",
   "metadata": {},
   "source": [
    "##### Voacb Map\n",
    "Create a vocab map "
   ]
  },
  {
   "cell_type": "code",
   "execution_count": 49,
   "metadata": {},
   "outputs": [],
   "source": [
    "train_vocab, reversed_train_vocab = generate_vocab_map(train_data)"
   ]
  },
  {
   "cell_type": "code",
   "execution_count": 50,
   "metadata": {},
   "outputs": [
    {
     "data": {
      "text/plain": [
       "38412"
      ]
     },
     "execution_count": 50,
     "metadata": {},
     "output_type": "execute_result"
    }
   ],
   "source": [
    "len(train_vocab)"
   ]
  },
  {
   "cell_type": "markdown",
   "metadata": {},
   "source": [
    "##### Building Pytorch Dataset"
   ]
  },
  {
   "cell_type": "code",
   "execution_count": 51,
   "metadata": {},
   "outputs": [],
   "source": [
    "generator1 = torch.Generator().manual_seed(RANDOM_SEED)\n",
    "\n",
    "train_dataset = ReviewDataset(train_vocab, train_data)\n",
    "train_dataset, val_dataset = random_split(train_dataset,[0.9,0.1], generator=generator1)\n",
    "test_dataset  = ReviewDataset(train_vocab, test_data)\n",
    "\n",
    "train_sampler = RandomSampler(train_dataset)\n",
    "val_sampler = RandomSampler(val_dataset)\n",
    "test_sampler  = RandomSampler(test_dataset)"
   ]
  },
  {
   "cell_type": "markdown",
   "metadata": {},
   "source": [
    "##### Pytorch DataLoader"
   ]
  },
  {
   "cell_type": "code",
   "execution_count": 52,
   "metadata": {},
   "outputs": [],
   "source": [
    "train_iterator = DataLoader(train_dataset, batch_size=BATCH_SIZE, sampler=train_sampler, collate_fn=collate_fn)\n",
    "val_iterator = DataLoader(val_dataset, batch_size=BATCH_SIZE, sampler=val_sampler, collate_fn=collate_fn)\n",
    "test_iterator  = DataLoader(test_dataset, batch_size=BATCH_SIZE, sampler=test_sampler, collate_fn=collate_fn)"
   ]
  },
  {
   "cell_type": "code",
   "execution_count": 64,
   "metadata": {},
   "outputs": [],
   "source": [
    "import torch\n",
    "import torch.nn as nn\n",
    "from torch.nn import TransformerEncoder, TransformerEncoderLayer\n",
    "\n",
    "class SimpleSentimentTransformer(nn.Module):\n",
    "    def __init__(self, vocab_size, embed_dim, num_heads, num_layers, dropout=0.1):\n",
    "        super(SimpleSentimentTransformer, self).__init__()\n",
    "        self.embedding = nn.Embedding(vocab_size, embed_dim)\n",
    "        self.pos_encoder = nn.Embedding(400, embed_dim)\n",
    "        encoder_layers = TransformerEncoderLayer(embed_dim, num_heads, dim_feedforward=embed_dim, dropout=dropout)\n",
    "        self.transformer_encoder = TransformerEncoder(encoder_layers, num_layers)\n",
    "        self.fc = nn.Linear(embed_dim, 2)\n",
    "        self.dropout = nn.Dropout(dropout)\n",
    "        \n",
    "    def generate_padding_mask(self, src, padding_idx=0):\n",
    "        padding_mask = (src == padding_idx)\n",
    "        return padding_mask\n",
    "\n",
    "    def forward(self, x, padding_idx=0):\n",
    "        padding_mask = self.generate_padding_mask(x, padding_idx)\n",
    "        seq_length = x.size(1)\n",
    "        pos = torch.arange(0, seq_length).unsqueeze(0).repeat(x.size(0), 1).to(x.device)\n",
    "        x = self.embedding(x) + self.pos_encoder(pos)\n",
    "        x = x.permute(1, 0, 2)\n",
    "        x = self.transformer_encoder(x, src_key_padding_mask=padding_mask)\n",
    "        avg_mask = ~padding_mask\n",
    "        avg_mask = avg_mask.permute(1, 0).float().unsqueeze(-1)\n",
    "        x = x * avg_mask\n",
    "        x = x.sum(dim=0) / avg_mask.sum(dim=0).clamp(min=1)\n",
    "        x = self.dropout(x)\n",
    "        x = self.fc(x)\n",
    "        return x\n",
    "\n",
    "def train_batch(model, data, targets, padding_idx=0):\n",
    "    outputs = model(data, padding_idx)\n",
    "    criterion = nn.CrossEntropyLoss()\n",
    "    loss = criterion(outputs, targets)\n",
    "    return loss"
   ]
  },
  {
   "cell_type": "code",
   "execution_count": 54,
   "metadata": {},
   "outputs": [],
   "source": [
    "def get_accuracy_and_f1_score(y_true, y_predicted):\n",
    "    \"\"\"\n",
    "    This function takes in two numpy arrays and computes the accuracy and F1 score\n",
    "    between them. You can use the imported sklearn functions to do this.\n",
    "\n",
    "    Args:\n",
    "        y_true (list) : A 1D numpy array of ground truth labels\n",
    "        y_predicted (list) : A 1D numpy array of predicted labels\n",
    "\n",
    "    Returns:\n",
    "        accuracy (float) : The accuracy of the predictions\n",
    "        f1_score (float) : The F1 score of the predictions\n",
    "    \"\"\"\n",
    "\n",
    "    accuracy = accuracy_score(y_true, y_predicted)\n",
    "\n",
    "    f1 = f1_score(y_true, y_predicted, average='macro')\n",
    "\n",
    "    return accuracy, f1"
   ]
  },
  {
   "cell_type": "code",
   "execution_count": 55,
   "metadata": {},
   "outputs": [],
   "source": [
    "def plot_confusion_matrix(y_true, y_pred, classes):\n",
    "    cm = confusion_matrix(y_true, y_pred, labels=range(len(classes)))\n",
    "    disp = ConfusionMatrixDisplay(confusion_matrix=cm, display_labels=classes)\n",
    "    disp.plot(cmap=plt.cm.Blues)\n",
    "    plt.xticks(rotation=90)\n",
    "    plt.show()"
   ]
  },
  {
   "cell_type": "code",
   "execution_count": 56,
   "metadata": {},
   "outputs": [],
   "source": [
    "def get_criterion(loss_type='ce'):\n",
    "    criterion = None\n",
    "\n",
    "    ## YOUR CODE STARTS HERE ##\n",
    "    if loss_type == 'ce':\n",
    "        criterion = nn.CrossEntropyLoss()\n",
    "\n",
    "    ## YOUR CODE ENDS HERE ##\n",
    "\n",
    "    return criterion"
   ]
  },
  {
   "cell_type": "code",
   "execution_count": 57,
   "metadata": {},
   "outputs": [],
   "source": [
    "def get_optimizer(model, learning_rate):\n",
    "    \"\"\"\n",
    "    This function takes a model and a learning rate, and returns an optimizer.\n",
    "    Feel free to experiment with different optimizers.\n",
    "    \"\"\"\n",
    "    optimizer = None\n",
    "\n",
    "    ## YOUR CODE STARTS HERE ##\n",
    "    optimizer = torch.optim.Adam(model.parameters(), lr=learning_rate)\n",
    "\n",
    "    ## YOUR CODE ENDS HERE ##\n",
    "\n",
    "    return optimizer"
   ]
  },
  {
   "cell_type": "code",
   "execution_count": 58,
   "metadata": {},
   "outputs": [],
   "source": [
    "def train_loop(model, criterion, optimizer, iterator, epoch, save_every=10):\n",
    "    \"\"\"\n",
    "    This function is used to train a model for one epoch.\n",
    "    :param model: The model to be trained\n",
    "    :param criterion: The loss function\n",
    "    :param optim: The optimizer\n",
    "    :param iterator: The training data iterator\n",
    "    :return: The average loss for this epoch\n",
    "    \"\"\"\n",
    "    model.train() # Is used to put the model in training mode\n",
    "    total_loss = 0\n",
    "    for x, y in tqdm(iterator, total=len(iterator), desc=\"Training Model\"):\n",
    "        ### YOUR CODE STARTS HERE ###\n",
    "        # remove this when you add your implementation\n",
    "        x, y = x.to(device), y.to(device)\n",
    "        optimizer.zero_grad()\n",
    "        output = model(x)\n",
    "\n",
    "        # output = output.long()\n",
    "        y = y.long()\n",
    "\n",
    "        loss = criterion(output, y)\n",
    "        loss.backward()\n",
    "        optimizer.step()\n",
    "        total_loss += loss.item()\n",
    "        ### YOUR CODE ENDS HERE ###\n",
    "\n",
    "    average_loss = total_loss / len(iterator)\n",
    "    return average_loss"
   ]
  },
  {
   "cell_type": "code",
   "execution_count": 59,
   "metadata": {},
   "outputs": [],
   "source": [
    "def val_loop(model, criterion, iterator):\n",
    "    \"\"\"\n",
    "    This function is used to evaluate a model on the validation set.\n",
    "    :param model: The model to be evaluated\n",
    "    :param iterator: The validation data iterator\n",
    "    :return: true: a Python boolean array of all the ground truth values\n",
    "             pred: a Python boolean array of all model predictions.\n",
    "            average_loss: The average loss over the validation set\n",
    "    \"\"\"\n",
    "\n",
    "    true, pred = [], []\n",
    "    total_loss = 0\n",
    "    model.eval()\n",
    "    for x, y in tqdm(iterator, total=len(iterator), desc=\"Evaluating Model\"):\n",
    "    ### YOUR CODE STARTS HERE ###\n",
    "         # remove this when you add your implementation\n",
    "         x, y = x.to(device), y.to(device)\n",
    "         output = model(x)\n",
    "\n",
    "        #  output = output.long()\n",
    "         y = y.long()\n",
    "\n",
    "         loss = criterion(output, y)\n",
    "\n",
    "         total_loss += loss.item()\n",
    "         true.extend(y.tolist())\n",
    "         predicted = torch.argmax(output, dim=1)\n",
    "         pred.extend(predicted.tolist())\n",
    "\n",
    "\n",
    "    ### YOUR CODE ENDS HERE ###\n",
    "    average_loss = total_loss / len(iterator)\n",
    "    return true, pred, average_loss"
   ]
  },
  {
   "cell_type": "code",
   "execution_count": 60,
   "metadata": {},
   "outputs": [],
   "source": [
    "def test_loop(model, criterion, iterator):\n",
    "    \"\"\"\n",
    "    This function is used to evaluate a model on the test set.\n",
    "    :param model: The model to be evaluated\n",
    "    :param iterator: The validation data iterator\n",
    "    :return: true: a Python boolean array of all the ground truth values\n",
    "             pred: a Python boolean array of all model predictions.\n",
    "            average_loss: The average loss over the validation set\n",
    "    \"\"\"\n",
    "\n",
    "    true, pred = [], []\n",
    "    total_loss = 0\n",
    "    model.eval()\n",
    "    for x, y in tqdm(iterator, total=len(iterator), desc=\"Evaluating Model\"):\n",
    "    ### YOUR CODE STARTS HERE ###\n",
    "         # remove this when you add your implementation\n",
    "         x, y = x.to(device), y.to(device)\n",
    "         output = model(x)\n",
    "\n",
    "        #  output = output.long()\n",
    "         y = y.long()\n",
    "\n",
    "         loss = criterion(output, y)\n",
    "\n",
    "         total_loss += loss.item()\n",
    "         true.extend(y.tolist())\n",
    "         predicted = torch.argmax(output, dim=1)\n",
    "         pred.extend(predicted.tolist())\n",
    "\n",
    "\n",
    "    ### YOUR CODE ENDS HERE ###\n",
    "    average_loss = total_loss / len(iterator)\n",
    "    return true, pred, average_loss"
   ]
  },
  {
   "cell_type": "code",
   "execution_count": 61,
   "metadata": {},
   "outputs": [],
   "source": [
    "def get_hyperparams_transformer():\n",
    "    VOCAB_SIZE = len(train_vocab)\n",
    "    EMBED_DIM = 4\n",
    "    NUM_HEADS = 1\n",
    "    NUM_LAYERS = 1\n",
    "    DROPOUT = 0.1\n",
    "    LEARNING_RATE = 0.015\n",
    "    EPOCHS = 2\n",
    "    return VOCAB_SIZE, EMBED_DIM, NUM_HEADS, NUM_LAYERS, DROPOUT, LEARNING_RATE, EPOCHS"
   ]
  },
  {
   "cell_type": "code",
   "execution_count": 62,
   "metadata": {},
   "outputs": [],
   "source": [
    "def get_transformer_model(vocab_size, embedding_dim, num_heads, num_layers, dropout):\n",
    "    model = SimpleSentimentTransformer(\n",
    "        vocab_size=vocab_size,\n",
    "        embed_dim=embedding_dim,\n",
    "        num_heads=num_heads,\n",
    "        num_layers=num_layers,\n",
    "        dropout=dropout\n",
    "    )\n",
    "    return model"
   ]
  },
  {
   "cell_type": "code",
   "execution_count": 65,
   "metadata": {},
   "outputs": [
    {
     "name": "stderr",
     "output_type": "stream",
     "text": [
      "/Applications/miniconda3/envs/nlp_project_env/lib/python3.8/site-packages/torch/nn/modules/transformer.py:306: UserWarning: enable_nested_tensor is True, but self.use_nested_tensor is False because encoder_layer.self_attn.batch_first was not True(use batch_first for better inference performance)\n",
      "  warnings.warn(f\"enable_nested_tensor is True, but self.use_nested_tensor is False because {why_not_sparsity_fast_path}\")\n",
      "Training Model: 100%|██████████| 352/352 [00:17<00:00, 20.36it/s]\n",
      "Evaluating Model: 100%|██████████| 40/40 [00:00<00:00, 47.06it/s]\n"
     ]
    },
    {
     "name": "stdout",
     "output_type": "stream",
     "text": [
      "Epoch 1 -- Train_Loss: 0.4832953506318683 -- Val_Loss: 0.3282777536660433 -- Val_Accuracy: 0.868 -- Val_F1: 0.8679834398426938\n"
     ]
    },
    {
     "name": "stderr",
     "output_type": "stream",
     "text": [
      "Training Model: 100%|██████████| 352/352 [00:14<00:00, 24.30it/s]\n",
      "Evaluating Model: 100%|██████████| 40/40 [00:00<00:00, 51.97it/s]\n"
     ]
    },
    {
     "name": "stdout",
     "output_type": "stream",
     "text": [
      "Epoch 2 -- Train_Loss: 0.2358433048621836 -- Val_Loss: 0.31322788801044227 -- Val_Accuracy: 0.876 -- Val_F1: 0.8759135166845885\n",
      "Checkpoint saved to /Users/sunidhidhawan/Downloads/NLP/Sentiment-Analysis-Intepreter/model_weights/checkpoint_transformer2_ce.pt\n"
     ]
    }
   ],
   "source": [
    "VOCAB_SIZE, EMBED_DIM, NUM_HEADS, NUM_LAYERS, DROPOUT, LEARNING_RATE, EPOCHS = get_hyperparams_transformer()\n",
    "\n",
    "transformer_model = get_transformer_model(\n",
    "    vocab_size=VOCAB_SIZE,\n",
    "    embedding_dim=EMBED_DIM,\n",
    "    num_heads=NUM_HEADS,\n",
    "    num_layers=NUM_LAYERS,\n",
    "    dropout=DROPOUT\n",
    ").to(device)\n",
    "\n",
    "criterion = get_criterion()\n",
    "optimizer = get_optimizer(transformer_model, LEARNING_RATE)\n",
    "train_loss_over_time_transformer = []\n",
    "val_loss_over_time_transformer = []\n",
    "\n",
    "for epoch in range(EPOCHS):\n",
    "    train_loss = train_loop(transformer_model, criterion, optimizer, train_iterator, epoch, save_every=2)\n",
    "    true, pred, val_loss = val_loop(transformer_model, criterion, val_iterator) # change to val\n",
    "    accuracy, f1 = get_accuracy_and_f1_score(true, pred)\n",
    "    print(f\"Epoch {epoch+1} -- Train_Loss: {train_loss} -- Val_Loss: {val_loss} -- Val_Accuracy: {accuracy} -- Val_F1: {f1}\")\n",
    "    train_loss_over_time_transformer.append(train_loss)\n",
    "    val_loss_over_time_transformer.append(val_loss)\n",
    "save_checkpoint(transformer_model, 'transformer2')"
   ]
  },
  {
   "cell_type": "code",
   "execution_count": 66,
   "metadata": {},
   "outputs": [
    {
     "data": {
      "image/png": "[encoded data removed]",
      "text/plain": [
       "<Figure size 1000x600 with 1 Axes>"
      ]
     },
     "metadata": {},
     "output_type": "display_data"
    }
   ],
   "source": [
    "plot_loss(train_loss_over_time_transformer, val_loss_over_time_transformer, 'transformer')"
   ]
  },
  {
   "cell_type": "code",
   "execution_count": null,
   "metadata": {},
   "outputs": [
    {
     "data": {
      "text/plain": [
       "SimpleSentimentTransformer(\n",
       "  (embedding): Embedding(38412, 4)\n",
       "  (pos_encoder): Embedding(400, 4)\n",
       "  (transformer_encoder): TransformerEncoder(\n",
       "    (layers): ModuleList(\n",
       "      (0): TransformerEncoderLayer(\n",
       "        (self_attn): MultiheadAttention(\n",
       "          (out_proj): NonDynamicallyQuantizableLinear(in_features=4, out_features=4, bias=True)\n",
       "        )\n",
       "        (linear1): Linear(in_features=4, out_features=4, bias=True)\n",
       "        (dropout): Dropout(p=0.1, inplace=False)\n",
       "        (linear2): Linear(in_features=4, out_features=4, bias=True)\n",
       "        (norm1): LayerNorm((4,), eps=1e-05, elementwise_affine=True)\n",
       "        (norm2): LayerNorm((4,), eps=1e-05, elementwise_affine=True)\n",
       "        (dropout1): Dropout(p=0.1, inplace=False)\n",
       "        (dropout2): Dropout(p=0.1, inplace=False)\n",
       "      )\n",
       "    )\n",
       "  )\n",
       "  (fc): Linear(in_features=4, out_features=2, bias=True)\n",
       "  (dropout): Dropout(p=0.1, inplace=False)\n",
       ")"
      ]
     },
     "execution_count": 56,
     "metadata": {},
     "output_type": "execute_result"
    }
   ],
   "source": [
    "transformer_model"
   ]
  },
  {
   "cell_type": "code",
   "execution_count": 67,
   "metadata": {},
   "outputs": [
    {
     "name": "stderr",
     "output_type": "stream",
     "text": [
      "/Applications/miniconda3/envs/nlp_project_env/lib/python3.8/site-packages/torch/nn/modules/transformer.py:306: UserWarning: enable_nested_tensor is True, but self.use_nested_tensor is False because encoder_layer.self_attn.batch_first was not True(use batch_first for better inference performance)\n",
      "  warnings.warn(f\"enable_nested_tensor is True, but self.use_nested_tensor is False because {why_not_sparsity_fast_path}\")\n",
      "Evaluating Model: 100%|██████████| 391/391 [00:07<00:00, 50.51it/s]"
     ]
    },
    {
     "name": "stdout",
     "output_type": "stream",
     "text": [
      "Final Test Accuracy: 0.85888\n",
      "Final Test F1-Score: 0.8585951803760841\n"
     ]
    },
    {
     "name": "stderr",
     "output_type": "stream",
     "text": [
      "\n"
     ]
    }
   ],
   "source": [
    "VOCAB_SIZE, EMBED_DIM, NUM_HEADS, NUM_LAYERS, DROPOUT, LEARNING_RATE, EPOCHS = get_hyperparams_transformer()\n",
    "\n",
    "transformer_model = get_transformer_model(\n",
    "    vocab_size=VOCAB_SIZE,\n",
    "    embedding_dim=EMBED_DIM,\n",
    "    num_heads=NUM_HEADS,\n",
    "    num_layers=NUM_LAYERS,\n",
    "    dropout=DROPOUT\n",
    ").to(device)\n",
    "load_checkpoint(transformer_model, 'transformer2', map_location=device)\n",
    "\n",
    "# evaluate model\n",
    "true, pred, val_loss = test_loop(transformer_model, criterion, test_iterator)\n",
    "accuracy, f1 = get_accuracy_and_f1_score(true, pred)\n",
    "print(f\"Final Test Accuracy: {accuracy}\")\n",
    "print(f\"Final Test F1-Score: {f1}\")"
   ]
  },
  {
   "cell_type": "code",
   "execution_count": 68,
   "metadata": {},
   "outputs": [
    {
     "data": {
      "image/png": "[encoded data removed]",
      "text/plain": [
       "<Figure size 640x480 with 2 Axes>"
      ]
     },
     "metadata": {},
     "output_type": "display_data"
    }
   ],
   "source": [
    "plot_confusion_matrix(true, pred, classes=[0, 1])"
   ]
  },
  {
   "cell_type": "code",
   "execution_count": 69,
   "metadata": {},
   "outputs": [
    {
     "name": "stdout",
     "output_type": "stream",
     "text": [
      "155394\n"
     ]
    }
   ],
   "source": [
    "pytorch_total_params = sum(p.numel() for p in transformer_model.parameters())\n",
    "print(pytorch_total_params)"
   ]
  },
  {
   "cell_type": "markdown",
   "metadata": {},
   "source": [
    "### Analyze Transformer Weights"
   ]
  },
  {
   "cell_type": "code",
   "execution_count": 70,
   "metadata": {},
   "outputs": [
    {
     "data": {
      "text/plain": [
       "{'model_state_dict': OrderedDict([('embedding.weight',\n",
       "               tensor([[ 0.0634,  0.0976,  0.1822,  0.0974],\n",
       "                       [ 0.2545, -0.1711,  0.5143,  0.4379],\n",
       "                       [-0.8580, -0.6819, -1.4091,  0.4607],\n",
       "                       ...,\n",
       "                       [-0.7168,  0.2703,  1.6081, -0.7156],\n",
       "                       [ 0.6357,  0.1194, -1.0542, -0.4397],\n",
       "                       [ 0.9718, -1.4879, -0.2766, -2.5030]])),\n",
       "              ('pos_encoder.weight',\n",
       "               tensor([[ 0.2556, -1.6277,  0.5822, -0.3424],\n",
       "                       [ 0.3629,  0.8627, -0.3700,  0.0931],\n",
       "                       [ 0.2821, -0.0860,  0.5397, -0.2434],\n",
       "                       ...,\n",
       "                       [ 1.0763,  1.4039,  0.5614,  0.3121],\n",
       "                       [ 0.5904,  0.6268, -0.2063,  0.8911],\n",
       "                       [ 1.6754,  0.0536, -0.7179, -0.5039]])),\n",
       "              ('transformer_encoder.layers.0.self_attn.in_proj_weight',\n",
       "               tensor([[ 0.0763,  0.1922,  0.0964,  0.3278],\n",
       "                       [-0.2376, -0.1108,  0.0193,  0.1452],\n",
       "                       [ 0.0034,  0.1034,  0.2421, -0.3529],\n",
       "                       [-0.1031, -0.1710, -0.0583,  0.3011],\n",
       "                       [-0.4336, -0.5208,  0.3479,  0.0347],\n",
       "                       [ 0.3555, -0.0146, -0.1111,  0.1763],\n",
       "                       [ 0.2454,  0.5035,  0.1108,  0.2581],\n",
       "                       [ 0.2315, -0.4796, -0.2252,  0.2045],\n",
       "                       [ 0.2625, -0.3717,  0.7567, -0.9129],\n",
       "                       [ 1.0513, -0.9391,  0.6365, -1.0451],\n",
       "                       [ 0.9502, -0.8652,  0.4848, -0.8603],\n",
       "                       [-1.4027,  1.1482, -0.9483,  1.3793]])),\n",
       "              ('transformer_encoder.layers.0.self_attn.in_proj_bias',\n",
       "               tensor([-0.0131,  0.0206, -0.0184,  0.0300, -0.0791, -0.0487,  0.0382, -0.0132,\n",
       "                        0.0066, -0.0316, -0.0034,  0.0293])),\n",
       "              ('transformer_encoder.layers.0.self_attn.out_proj.weight',\n",
       "               tensor([[ 0.6858,  0.9399,  0.1674, -1.5589],\n",
       "                       [-0.2583, -1.3102, -0.5262,  1.8828],\n",
       "                       [-0.2865,  0.6586,  0.4619, -1.5030],\n",
       "                       [-0.5619, -0.7407, -1.0699,  1.4420]])),\n",
       "              ('transformer_encoder.layers.0.self_attn.out_proj.bias',\n",
       "               tensor([ 0.0619, -0.0481, -0.0073,  0.0078])),\n",
       "              ('transformer_encoder.layers.0.linear1.weight',\n",
       "               tensor([[-0.0342, -0.3467, -0.0344, -0.0503],\n",
       "                       [ 0.0486,  0.0815,  0.1082,  0.2179],\n",
       "                       [ 0.0235,  0.1192,  0.0406,  0.0492],\n",
       "                       [-0.2187, -0.0895,  0.0364, -0.2961]])),\n",
       "              ('transformer_encoder.layers.0.linear1.bias',\n",
       "               tensor([-0.0487, -0.4635, -0.2856, -0.5590])),\n",
       "              ('transformer_encoder.layers.0.linear2.weight',\n",
       "               tensor([[-0.3531, -0.4134,  0.1291,  0.3269],\n",
       "                       [-0.1665, -0.4473, -0.1772, -0.1255],\n",
       "                       [ 0.2305,  0.2378,  0.0885, -0.3306],\n",
       "                       [-0.4012,  0.3503,  0.0880,  0.3044]])),\n",
       "              ('transformer_encoder.layers.0.linear2.bias',\n",
       "               tensor([-0.3157, -0.2760, -0.2565, -0.1976])),\n",
       "              ('transformer_encoder.layers.0.norm1.weight',\n",
       "               tensor([1.6750, 1.9565, 1.6777, 1.2183])),\n",
       "              ('transformer_encoder.layers.0.norm1.bias',\n",
       "               tensor([ 0.0470, -0.0711,  0.0499,  0.1813])),\n",
       "              ('transformer_encoder.layers.0.norm2.weight',\n",
       "               tensor([1.7377, 1.5790, 1.7211, 1.2943])),\n",
       "              ('transformer_encoder.layers.0.norm2.bias',\n",
       "               tensor([ 0.0401,  0.1767,  0.0409, -0.1001])),\n",
       "              ('fc.weight',\n",
       "               tensor([[ 0.6033, -0.5294,  0.6976, -0.1879],\n",
       "                       [-0.7942,  0.7176, -0.7170,  0.4955]])),\n",
       "              ('fc.bias', tensor([-0.0092,  0.0842]))])}"
      ]
     },
     "execution_count": 70,
     "metadata": {},
     "output_type": "execute_result"
    }
   ],
   "source": [
    "checkpoint = torch.load(\"model_weights/checkpoint_transformer_ce.pt\", map_location='cpu')\n",
    "checkpoint"
   ]
  },
  {
   "cell_type": "code",
   "execution_count": 71,
   "metadata": {},
   "outputs": [
    {
     "name": "stdout",
     "output_type": "stream",
     "text": [
      "\n",
      "=== EMBEDDING WEIGHTS ===\n",
      "\n",
      "embedding.weight:\n",
      "Shape: torch.Size([38412, 4])\n",
      "Magnitude stats:\n",
      "  Mean abs value: 0.9100\n",
      "  Std deviation:  1.1431\n",
      "  Min value:     -5.4450\n",
      "  Max value:     6.0066\n",
      "  L2 norm:       448.0569\n",
      "\n",
      "=== POSITIONAL WEIGHTS ===\n",
      "\n",
      "pos_encoder.weight:\n",
      "Shape: torch.Size([400, 4])\n",
      "Magnitude stats:\n",
      "  Mean abs value: 0.7267\n",
      "  Std deviation:  0.9150\n",
      "  Min value:     -3.5781\n",
      "  Max value:     3.0996\n",
      "  L2 norm:       36.6285\n",
      "\n",
      "=== ATTENTION WEIGHTS ===\n",
      "\n",
      "transformer_encoder.layers.0.self_attn.in_proj_weight:\n",
      "Shape: torch.Size([12, 4])\n",
      "Magnitude stats:\n",
      "  Mean abs value: 0.4335\n",
      "  Std deviation:  0.5817\n",
      "  Min value:     -1.4027\n",
      "  Max value:     1.3793\n",
      "  L2 norm:       3.9887\n",
      "\n",
      "  QKV breakdown:\n",
      "  Q mean abs: 0.1588\n",
      "  K mean abs: 0.2658\n",
      "  V mean abs: 0.8759\n",
      "\n",
      "transformer_encoder.layers.0.self_attn.in_proj_bias:\n",
      "Shape: torch.Size([12])\n",
      "Magnitude stats:\n",
      "  Mean abs value: 0.0277\n",
      "  Std deviation:  0.0350\n",
      "  Min value:     -0.0791\n",
      "  Max value:     0.0382\n",
      "  L2 norm:       0.1184\n",
      "\n",
      "transformer_encoder.layers.0.self_attn.out_proj.weight:\n",
      "Shape: torch.Size([4, 4])\n",
      "Magnitude stats:\n",
      "  Mean abs value: 0.8784\n",
      "  Std deviation:  1.0437\n",
      "  Min value:     -1.5589\n",
      "  Max value:     1.8828\n",
      "  L2 norm:       4.0612\n",
      "\n",
      "transformer_encoder.layers.0.self_attn.out_proj.bias:\n",
      "Shape: torch.Size([4])\n",
      "Magnitude stats:\n",
      "  Mean abs value: 0.0313\n",
      "  Std deviation:  0.0455\n",
      "  Min value:     -0.0481\n",
      "  Max value:     0.0619\n",
      "  L2 norm:       0.0791\n",
      "\n",
      "=== FEEDFORWARD WEIGHTS ===\n",
      "\n",
      "transformer_encoder.layers.0.linear1.weight:\n",
      "Shape: torch.Size([4, 4])\n",
      "Magnitude stats:\n",
      "  Mean abs value: 0.1122\n",
      "  Std deviation:  0.1526\n",
      "  Min value:     -0.3467\n",
      "  Max value:     0.2179\n",
      "  L2 norm:       0.5974\n",
      "\n",
      "transformer_encoder.layers.0.linear1.bias:\n",
      "Shape: torch.Size([4])\n",
      "Magnitude stats:\n",
      "  Mean abs value: 0.3392\n",
      "  Std deviation:  0.2244\n",
      "  Min value:     -0.5590\n",
      "  Max value:     -0.0487\n",
      "  L2 norm:       0.7818\n",
      "\n",
      "transformer_encoder.layers.0.linear2.weight:\n",
      "Shape: torch.Size([4, 4])\n",
      "Magnitude stats:\n",
      "  Mean abs value: 0.2606\n",
      "  Std deviation:  0.2919\n",
      "  Min value:     -0.4473\n",
      "  Max value:     0.3503\n",
      "  L2 norm:       1.1423\n",
      "\n",
      "transformer_encoder.layers.0.linear2.bias:\n",
      "Shape: torch.Size([4])\n",
      "Magnitude stats:\n",
      "  Mean abs value: 0.2614\n",
      "  Std deviation:  0.0492\n",
      "  Min value:     -0.3157\n",
      "  Max value:     -0.1976\n",
      "  L2 norm:       0.5298\n",
      "\n",
      "=== LAYER_NORM WEIGHTS ===\n",
      "\n",
      "transformer_encoder.layers.0.norm1.weight:\n",
      "Shape: torch.Size([4])\n",
      "Magnitude stats:\n",
      "  Mean abs value: 1.6319\n",
      "  Std deviation:  0.3057\n",
      "  Min value:     1.2183\n",
      "  Max value:     1.9565\n",
      "  L2 norm:       3.3064\n",
      "\n",
      "transformer_encoder.layers.0.norm1.bias:\n",
      "Shape: torch.Size([4])\n",
      "Magnitude stats:\n",
      "  Mean abs value: 0.0873\n",
      "  Std deviation:  0.1031\n",
      "  Min value:     -0.0711\n",
      "  Max value:     0.1813\n",
      "  L2 norm:       0.2064\n",
      "\n",
      "transformer_encoder.layers.0.norm2.weight:\n",
      "Shape: torch.Size([4])\n",
      "Magnitude stats:\n",
      "  Mean abs value: 1.5830\n",
      "  Std deviation:  0.2052\n",
      "  Min value:     1.2943\n",
      "  Max value:     1.7377\n",
      "  L2 norm:       3.1859\n",
      "\n",
      "transformer_encoder.layers.0.norm2.bias:\n",
      "Shape: torch.Size([4])\n",
      "Magnitude stats:\n",
      "  Mean abs value: 0.0895\n",
      "  Std deviation:  0.1130\n",
      "  Min value:     -0.1001\n",
      "  Max value:     0.1767\n",
      "  L2 norm:       0.2110\n",
      "\n",
      "=== OUTPUT WEIGHTS ===\n",
      "\n",
      "fc.weight:\n",
      "Shape: torch.Size([2, 4])\n",
      "Magnitude stats:\n",
      "  Mean abs value: 0.5928\n",
      "  Std deviation:  0.6613\n",
      "  Min value:     -0.7942\n",
      "  Max value:     0.7176\n",
      "  L2 norm:       1.7526\n",
      "\n",
      "fc.bias:\n",
      "Shape: torch.Size([2])\n",
      "Magnitude stats:\n",
      "  Mean abs value: 0.0467\n",
      "  Std deviation:  0.0660\n",
      "  Min value:     -0.0092\n",
      "  Max value:     0.0842\n",
      "  L2 norm:       0.0847\n"
     ]
    }
   ],
   "source": [
    "import torch\n",
    "from collections import defaultdict\n",
    "\n",
    "def analyze_specific_weights(checkpoint):\n",
    "    stats = {}\n",
    "    model_weights = checkpoint['model_state_dict']\n",
    "    \n",
    "    # Group weights by component\n",
    "    groups = {\n",
    "        'embedding': ['embedding.weight'],\n",
    "        'positional': ['pos_encoder.weight'],\n",
    "        'attention': [k for k in model_weights.keys() if 'self_attn' in k],\n",
    "        'feedforward': [k for k in model_weights.keys() if 'linear' in k],\n",
    "        'layer_norm': [k for k in model_weights.keys() if 'norm' in k],\n",
    "        'output': [k for k in model_weights.keys() if 'fc.' in k]\n",
    "    }\n",
    "    \n",
    "    for group_name, weight_keys in groups.items():\n",
    "        print(f\"\\n=== {group_name.upper()} WEIGHTS ===\")\n",
    "        \n",
    "        for key in weight_keys:\n",
    "            weight = model_weights[key]\n",
    "            \n",
    "            # Calculate statistics\n",
    "            abs_mean = torch.mean(torch.abs(weight)).item()\n",
    "            std = torch.std(weight).item()\n",
    "            max_val = torch.max(weight).item()\n",
    "            min_val = torch.min(weight).item()\n",
    "            norm = torch.norm(weight).item()\n",
    "            \n",
    "            print(f\"\\n{key}:\")\n",
    "            print(f\"Shape: {weight.shape}\")\n",
    "            print(f\"Magnitude stats:\")\n",
    "            print(f\"  Mean abs value: {abs_mean:.4f}\")\n",
    "            print(f\"  Std deviation:  {std:.4f}\")\n",
    "            print(f\"  Min value:     {min_val:.4f}\")\n",
    "            print(f\"  Max value:     {max_val:.4f}\")\n",
    "            print(f\"  L2 norm:       {norm:.4f}\")\n",
    "            \n",
    "            # Special checks for different component types\n",
    "            if 'norm' in key and 'weight' in key:\n",
    "                if torch.any(weight < 0):\n",
    "                    print(\"  WARNING: Layer norm weights contain negative values!\")\n",
    "                    \n",
    "            if 'bias' in key:\n",
    "                if abs_mean > 1.0:\n",
    "                    print(\"  WARNING: Unusually large bias values!\")\n",
    "                    \n",
    "            if 'self_attn' in key and 'in_proj_weight' in key:\n",
    "                # Check Q, K, V matrices separately\n",
    "                qkv_size = weight.shape[0] // 3\n",
    "                q = weight[:qkv_size]\n",
    "                k = weight[qkv_size:2*qkv_size]\n",
    "                v = weight[2*qkv_size:]\n",
    "                print(\"\\n  QKV breakdown:\")\n",
    "                print(f\"  Q mean abs: {torch.mean(torch.abs(q)).item():.4f}\")\n",
    "                print(f\"  K mean abs: {torch.mean(torch.abs(k)).item():.4f}\")\n",
    "                print(f\"  V mean abs: {torch.mean(torch.abs(v)).item():.4f}\")\n",
    "\n",
    "# Add summary function\n",
    "def print_overall_summary(checkpoint):\n",
    "    model_weights = checkpoint['model_state_dict']\n",
    "    total_params = sum(p.numel() for p in model_weights.values())\n",
    "    max_abs = max(torch.max(torch.abs(p)).item() for p in model_weights.values())\n",
    "    \n",
    "    print(\"\\n=== OVERALL MODEL SUMMARY ===\")\n",
    "    print(f\"Total parameters: {total_params:,}\")\n",
    "    print(f\"Maximum absolute weight value: {max_abs:.4f}\")\n",
    "    print(\"\\nLayer sizes:\")\n",
    "    for name, param in model_weights.items():\n",
    "        print(f\"{name}: {param.shape}\")\n",
    "analyze_specific_weights(checkpoint)\n",
    "# print_overall_summary(checkpoint)"
   ]
  }
 ],
 "metadata": {
  "kernelspec": {
   "display_name": "nlp_project_env",
   "language": "python",
   "name": "python3"
  },
  "language_info": {
   "codemirror_mode": {
    "name": "ipython",
    "version": 3
   },
   "file_extension": ".py",
   "mimetype": "text/x-python",
   "name": "python",
   "nbconvert_exporter": "python",
   "pygments_lexer": "ipython3",
   "version": "3.12.4"
  }
 },
 "nbformat": 4,
 "nbformat_minor": 2
}
